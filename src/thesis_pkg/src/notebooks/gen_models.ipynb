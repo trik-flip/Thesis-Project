{
 "cells": [
  {
   "cell_type": "code",
   "execution_count": 1,
   "metadata": {},
   "outputs": [],
   "source": [
    "import mujoco.viewer as viewer\n",
    "from dm_control import mjcf\n",
    "from mujoco import MjModel\n",
    "from sim._mujoco.models import (\n",
    "    attach_to_model,\n",
    "    clean_temp_files,\n",
    "    export_model,\n",
    "    gen_end_effector,\n",
    "    gen_goal_square,\n",
    ")"
   ]
  },
  {
   "cell_type": "code",
   "execution_count": 2,
   "metadata": {},
   "outputs": [],
   "source": [
    "path = \"/home/philip/Code/OtherProjects/mujoco_menagerie/kuka_iiwa_14/scene.xml\""
   ]
  },
  {
   "cell_type": "code",
   "execution_count": 3,
   "metadata": {},
   "outputs": [],
   "source": [
    "end_effector = gen_end_effector(\"box\")\n",
    "goal = gen_goal_square()"
   ]
  },
  {
   "cell_type": "code",
   "execution_count": 4,
   "metadata": {},
   "outputs": [],
   "source": [
    "end_effector = gen_end_effector(\"capsule\")\n",
    "goal = gen_goal_square(radius=0.045)"
   ]
  },
  {
   "cell_type": "code",
   "execution_count": 5,
   "metadata": {},
   "outputs": [
    {
     "data": {
      "text/plain": [
       "MJCF Element: <body pos=\"0 0 0.044999999999999998\" name=\"end_effector/\">...</body>"
      ]
     },
     "execution_count": 5,
     "metadata": {},
     "output_type": "execute_result"
    }
   ],
   "source": [
    "xml_model = mjcf.from_path(path)\n",
    "attach_to_model(xml_model, end_effector)"
   ]
  },
  {
   "cell_type": "code",
   "execution_count": 6,
   "metadata": {},
   "outputs": [
    {
     "data": {
      "text/plain": [
       "MJCF Element: <body name=\"goal/\">...</body>"
      ]
     },
     "execution_count": 6,
     "metadata": {},
     "output_type": "execute_result"
    }
   ],
   "source": [
    "xml_model.worldbody.attach(goal)"
   ]
  },
  {
   "cell_type": "code",
   "execution_count": 7,
   "metadata": {},
   "outputs": [],
   "source": [
    "clean_temp_files()\n",
    "mjcf.export_with_assets(xml_model, \"tmp\", \"tmp.xml\")\n",
    "export_model(xml_model)"
   ]
  },
  {
   "cell_type": "code",
   "execution_count": 8,
   "metadata": {},
   "outputs": [
    {
     "data": {
      "text/plain": [
       "'<mujoco model=\"iiwa14 scene\">\\n  <compiler autolimits=\"true\" angle=\"radian\"/>\\n  <option integrator=\"implicitfast\"/>\\n  <visual>\\n    <global azimuth=\"-120\" elevation=\"-20\"/>\\n    <headlight ambient=\"0.29999999999999999 0.29999999999999999 0.29999999999999999\" diffuse=\"0.59999999999999998 0.59999999999999998 0.59999999999999998\" specular=\"0 0 0\"/>\\n    <rgba haze=\"0.14999999999999999 0.25 0.34999999999999998 1\"/>\\n  </visual>\\n  <statistic extent=\"1\" center=\"0.20000000000000001 0 0.20000000000000001\"/>\\n  <default>\\n    <default class=\"/\">\\n      <default class=\"iiwa\">\\n        <material specular=\"0.5\" shininess=\"0.25\"/>\\n        <joint axis=\"0 0 1\"/>\\n        <site group=\"4\" rgba=\"1 0 0 1\" size=\"0.001\"/>\\n        <general gaintype=\"fixed\" biastype=\"affine\" gainprm=\"2000\" biasprm=\"0 -2000 -200\"/>\\n        <default class=\"joint1\">\\n          <joint range=\"-2.96706 2.96706\"/>\\n          <general ctrlrange=\"-2.96706 2.96706\"/>\\n          <default class=\"joint2\">\\n            <joint range=\"-2.0943999999999998 2.0943999999999998\"/>\\n            <general ctrlrange=\"-2.0943999999999998 2.0943999999999998\"/>\\n          </default>\\n        </default>\\n        <default class=\"joint3\">\\n          <joint range=\"-3.0543300000000002 3.0543300000000002\"/>\\n          <general ctrlrange=\"-3.0543300000000002 3.0543300000000002\"/>\\n        </default>\\n        <default class=\"visual\">\\n          <geom type=\"mesh\" contype=\"0\" conaffinity=\"0\" group=\"2\" material=\"gray\"/>\\n        </default>\\n        <default class=\"collision\">\\n          <geom group=\"3\"/>\\n        </default>\\n      </default>\\n    </default>\\n    <default class=\"end_effector/\"/>\\n    <default class=\"goal/\"/>\\n  </default>\\n  <asset>\\n    <texture name=\"//unnamed_texture_0\" type=\"skybox\" builtin=\"gradient\" rgb1=\"0.29999999999999999 0.5 0.69999999999999996\" rgb2=\"0 0 0\" width=\"512\" height=\"3072\"/>\\n    <texture name=\"groundplane\" type=\"2d\" builtin=\"checker\" rgb1=\"0.20000000000000001 0.29999999999999999 0.40000000000000002\" rgb2=\"0.10000000000000001 0.20000000000000001 0.29999999999999999\" mark=\"edge\" markrgb=\"0.80000000000000004 0.80000000000000004 0.80000000000000004\" width=\"300\" height=\"300\"/>\\n    <material name=\"groundplane\" class=\"/\" texture=\"groundplane\" texrepeat=\"5 5\" texuniform=\"true\" reflectance=\"0.20000000000000001\"/>\\n    <material name=\"gray\" class=\"iiwa\" rgba=\"0.40000000000000002 0.40000000000000002 0.40000000000000002 1\"/>\\n    <material name=\"light_gray\" class=\"iiwa\" rgba=\"0.59999999999999998 0.59999999999999998 0.59999999999999998 1\"/>\\n    <material name=\"black\" class=\"iiwa\" rgba=\"0 0 0 1\"/>\\n    <material name=\"orange\" class=\"iiwa\" rgba=\"1 0.42352899999999999 0.039215699999999999 1\"/>\\n    <mesh name=\"link_0\" class=\"/\" file=\"link_0-baabeeb7011606590600793859d7403e5a285b9a.obj\"/>\\n    <mesh name=\"link_1\" class=\"/\" file=\"link_1-c60fc4e4431959600915e42c8df1ef280600cdcc.obj\"/>\\n    <mesh name=\"link_2_orange\" class=\"/\" file=\"link_2_orange-d3260b57d9e6164a7c0622295ce4723efad5a2c2.obj\"/>\\n    <mesh name=\"link_2_grey\" class=\"/\" file=\"link_2_grey-04d5bb08f35433038e492c56f5b16cabaad145f4.obj\"/>\\n    <mesh name=\"link_3\" class=\"/\" file=\"link_3-d01a849435c4666fef134914c9d450e6feb43ebf.obj\"/>\\n    <mesh name=\"band\" class=\"/\" file=\"band-171a65a32e8ddd7fc83d54c7252fcdf22592941f.obj\"/>\\n    <mesh name=\"kuka\" class=\"/\" file=\"kuka-aad24ecacb8b6c07de184d60a6e9678c7458d1be.obj\"/>\\n    <mesh name=\"link_4_orange\" class=\"/\" file=\"link_4_orange-fdabe7160b9c7d424a5a08bf79e0c12f1ed2b0f0.obj\"/>\\n    <mesh name=\"link_4_grey\" class=\"/\" file=\"link_4_grey-653c66bc0d7d4089b87f6b78016c4fa02c3e82dd.obj\"/>\\n    <mesh name=\"link_5\" class=\"/\" file=\"link_5-2fc0b2e3cd89f3d596155efec9d5d97994186ae2.obj\"/>\\n    <mesh name=\"link_6_orange\" class=\"/\" file=\"link_6_orange-f1650a80653de711bf43548bac7b07d7939a20fc.obj\"/>\\n    <mesh name=\"link_6_grey\" class=\"/\" file=\"link_6_grey-f841107d520b2b25931f595e8320c5747a54156d.obj\"/>\\n    <mesh name=\"link_7\" class=\"/\" file=\"link_7-8471d29fe88b36bc49c983363442dc52c7543820.obj\"/>\\n  </asset>\\n  <worldbody>\\n    <light name=\"//unnamed_light_0\" class=\"/\" directional=\"true\" pos=\"0 0 1.5\" dir=\"0 0 -1\"/>\\n    <geom name=\"floor\" class=\"/\" type=\"plane\" size=\"0 0 0.050000000000000003\" material=\"groundplane\"/>\\n    <light name=\"top\" class=\"/\" mode=\"trackcom\" pos=\"0 0 2\"/>\\n    <body name=\"base\" childclass=\"iiwa\">\\n      <inertial pos=\"-0.10000000000000001 0 0.070000000000000007\" mass=\"5\" diaginertia=\"0.050000000000000003 0.059999999999999998 0.029999999999999999\"/>\\n      <geom name=\"//unnamed_geom_1\" class=\"visual\" mesh=\"link_0\"/>\\n      <geom name=\"//unnamed_geom_2\" class=\"collision\" size=\"0.12\" pos=\"0 0 0.029999999999999999\"/>\\n      <geom name=\"//unnamed_geom_3\" class=\"collision\" size=\"0.080000000000000002\" pos=\"-0.080000000000000002 0 0.10299999999999999\"/>\\n      <geom name=\"//unnamed_geom_4\" class=\"collision\" size=\"0.080000000000000002\" pos=\"-0.080000000000000002 0 0.040000000000000001\"/>\\n      <geom name=\"//unnamed_geom_5\" class=\"collision\" size=\"0.10000000000000001\" pos=\"0 0 0.14000000000000001\"/>\\n      <body name=\"link1\" pos=\"0 0 0.1575\">\\n        <inertial pos=\"0 -0.029999999999999999 0.12\" mass=\"5.7599999999999998\" diaginertia=\"0.033300000000000003 0.033000000000000002 0.0123\"/>\\n        <joint name=\"joint1\" class=\"joint1\"/>\\n        <geom name=\"//unnamed_geom_6\" class=\"visual\" mesh=\"link_1\"/>\\n        <geom name=\"//unnamed_geom_7\" class=\"collision\" size=\"0.080000000000000002\" pos=\"0 0 -0.00050000000000000001\"/>\\n        <geom name=\"//unnamed_geom_8\" class=\"collision\" size=\"0.074999999999999997\" pos=\"0.01 -0.025000000000000001 0.042500000000000003\"/>\\n        <geom name=\"//unnamed_geom_9\" class=\"collision\" size=\"0.074999999999999997\" pos=\"-0.01 -0.025000000000000001 0.042500000000000003\"/>\\n        <geom name=\"//unnamed_geom_10\" class=\"collision\" size=\"0.070000000000000007\" pos=\"0.01 -0.044999999999999998 0.10249999999999999\"/>\\n        <geom name=\"//unnamed_geom_11\" class=\"collision\" size=\"0.070000000000000007\" pos=\"-0.01 -0.044999999999999998 0.10249999999999999\"/>\\n        <body name=\"link2\" pos=\"0 0 0.20250000000000001\" quat=\"0 0 1 1\">\\n          <inertial pos=\"0.00029999999999999997 0.058999999999999997 0.042000000000000003\" quat=\"0 0 1 1\" mass=\"6.3499999999999996\" diaginertia=\"0.030499999999999999 0.0304 0.010999999999999999\"/>\\n          <joint name=\"joint2\" class=\"joint2\"/>\\n          <geom name=\"//unnamed_geom_12\" class=\"visual\" material=\"orange\" mesh=\"link_2_orange\"/>\\n          <geom name=\"//unnamed_geom_13\" class=\"visual\" mesh=\"link_2_grey\"/>\\n          <geom name=\"//unnamed_geom_14\" class=\"collision\" size=\"0.095000000000000001\" pos=\"0 0 -0.01\"/>\\n          <geom name=\"//unnamed_geom_15\" class=\"collision\" size=\"0.089999999999999997\" pos=\"0 0 0.044999999999999998\"/>\\n          <geom name=\"//unnamed_geom_16\" class=\"collision\" size=\"0.070000000000000007\" pos=\"-0.01 0.040000000000000001 0.053999999999999999\"/>\\n          <geom name=\"//unnamed_geom_17\" class=\"collision\" size=\"0.065000000000000002\" pos=\"-0.01 0.089999999999999997 0.040000000000000001\"/>\\n          <geom name=\"//unnamed_geom_18\" class=\"collision\" size=\"0.065000000000000002\" pos=\"-0.01 0.13 0.02\"/>\\n          <geom name=\"//unnamed_geom_19\" class=\"collision\" size=\"0.070000000000000007\" pos=\"0.01 0.040000000000000001 0.053999999999999999\"/>\\n          <geom name=\"//unnamed_geom_20\" class=\"collision\" size=\"0.065000000000000002\" pos=\"0.01 0.089999999999999997 0.040000000000000001\"/>\\n          <geom name=\"//unnamed_geom_21\" class=\"collision\" size=\"0.065000000000000002\" pos=\"0.01 0.13 0.02\"/>\\n          <geom name=\"//unnamed_geom_22\" class=\"collision\" size=\"0.074999999999999997\" pos=\"0 0.17999999999999999 0\"/>\\n          <body name=\"link3\" pos=\"0 0.20449999999999999 0\" quat=\"0 0 1 1\">\\n            <inertial pos=\"0 0.029999999999999999 0.13\" mass=\"3.5\" diaginertia=\"0.025000000000000001 0.023800000000000002 0.0076\"/>\\n            <joint name=\"joint3\" class=\"joint1\"/>\\n            <geom name=\"//unnamed_geom_23\" class=\"visual\" mesh=\"link_3\"/>\\n            <geom name=\"//unnamed_geom_24\" class=\"visual\" material=\"light_gray\" mesh=\"band\"/>\\n            <geom name=\"//unnamed_geom_25\" class=\"visual\" material=\"black\" mesh=\"kuka\"/>\\n            <geom name=\"//unnamed_geom_26\" class=\"collision\" size=\"0.074999999999999997\" pos=\"0 0 0.035499999999999997\"/>\\n            <geom name=\"//unnamed_geom_27\" class=\"collision\" size=\"0.059999999999999998\" pos=\"0.01 0.023 0.085500000000000007\"/>\\n            <geom name=\"//unnamed_geom_28\" class=\"collision\" size=\"0.055\" pos=\"0.01 0.048000000000000001 0.1255\"/>\\n            <geom name=\"//unnamed_geom_29\" class=\"collision\" size=\"0.059999999999999998\" pos=\"0.01 0.056000000000000001 0.17549999999999999\"/>\\n            <geom name=\"//unnamed_geom_30\" class=\"collision\" size=\"0.059999999999999998\" pos=\"-0.01 0.023 0.085500000000000007\"/>\\n            <geom name=\"//unnamed_geom_31\" class=\"collision\" size=\"0.055\" pos=\"-0.01 0.048000000000000001 0.1255\"/>\\n            <geom name=\"//unnamed_geom_32\" class=\"collision\" size=\"0.059999999999999998\" pos=\"-0.01 0.056000000000000001 0.17549999999999999\"/>\\n            <geom name=\"//unnamed_geom_33\" class=\"collision\" size=\"0.074999999999999997\" pos=\"0 0.044999999999999998 0.2155\"/>\\n            <geom name=\"//unnamed_geom_34\" class=\"collision\" size=\"0.074999999999999997\" pos=\"0 0 0.2155\"/>\\n            <body name=\"link4\" pos=\"0 0 0.2155\" quat=\"1 1 0 0\">\\n              <inertial pos=\"0 0.067000000000000004 0.034000000000000002\" quat=\"1 1 0 0\" mass=\"3.5\" diaginertia=\"0.017000000000000001 0.016400000000000001 0.0060000000000000001\"/>\\n              <joint name=\"joint4\" class=\"joint2\"/>\\n              <geom name=\"//unnamed_geom_35\" class=\"visual\" material=\"orange\" mesh=\"link_4_orange\"/>\\n              <geom name=\"//unnamed_geom_36\" class=\"visual\" mesh=\"link_4_grey\"/>\\n              <geom name=\"//unnamed_geom_37\" class=\"collision\" size=\"0.078\" pos=\"0 0.01 0.045999999999999999\"/>\\n              <geom name=\"//unnamed_geom_38\" class=\"collision\" size=\"0.059999999999999998\" pos=\"0.01 0.059999999999999998 0.051999999999999998\"/>\\n              <geom name=\"//unnamed_geom_39\" class=\"collision\" size=\"0.065000000000000002\" pos=\"0.01 0.12 0.034000000000000002\"/>\\n              <geom name=\"//unnamed_geom_40\" class=\"collision\" size=\"0.059999999999999998\" pos=\"-0.01 0.059999999999999998 0.051999999999999998\"/>\\n              <geom name=\"//unnamed_geom_41\" class=\"collision\" size=\"0.065000000000000002\" pos=\"-0.01 0.12 0.034000000000000002\"/>\\n              <geom name=\"//unnamed_geom_42\" class=\"collision\" size=\"0.074999999999999997\" pos=\"0 0.184 0\"/>\\n              <body name=\"link5\" pos=\"0 0.1845 0\" quat=\"0 0 1 1\">\\n                <inertial pos=\"0.0001 0.021000000000000001 0.075999999999999998\" mass=\"3.5\" diaginertia=\"0.01 0.0086999999999999994 0.0044900000000000001\"/>\\n                <joint name=\"joint5\" class=\"joint1\"/>\\n                <geom name=\"//unnamed_geom_43\" class=\"visual\" mesh=\"link_5\"/>\\n                <geom name=\"//unnamed_geom_44\" class=\"visual\" material=\"light_gray\" mesh=\"band\"/>\\n                <geom name=\"//unnamed_geom_45\" class=\"visual\" material=\"black\" mesh=\"kuka\"/>\\n                <geom name=\"//unnamed_geom_46\" class=\"collision\" size=\"0.074999999999999997\" pos=\"0 0 0.033500000000000002\"/>\\n                <geom name=\"//unnamed_geom_47\" class=\"collision\" size=\"0.050000000000000003\" pos=\"-0.012 0.031 0.075499999999999998\"/>\\n                <geom name=\"//unnamed_geom_48\" class=\"collision\" size=\"0.050000000000000003\" pos=\"0.012 0.031 0.075499999999999998\"/>\\n                <geom name=\"//unnamed_geom_49\" class=\"collision\" size=\"0.040000000000000001\" pos=\"-0.012 0.059999999999999998 0.11550000000000001\"/>\\n                <geom name=\"//unnamed_geom_50\" class=\"collision\" size=\"0.040000000000000001\" pos=\"0.012 0.059999999999999998 0.11550000000000001\"/>\\n                <geom name=\"//unnamed_geom_51\" class=\"collision\" size=\"0.040000000000000001\" pos=\"-0.01 0.065000000000000002 0.16550000000000001\"/>\\n                <geom name=\"//unnamed_geom_52\" class=\"collision\" size=\"0.040000000000000001\" pos=\"0.01 0.065000000000000002 0.16550000000000001\"/>\\n                <geom name=\"//unnamed_geom_53\" class=\"collision\" size=\"0.035000000000000003\" pos=\"-0.012 0.065000000000000002 0.1855\"/>\\n                <geom name=\"//unnamed_geom_54\" class=\"collision\" size=\"0.035000000000000003\" pos=\"0.012 0.065000000000000002 0.1855\"/>\\n                <body name=\"link6\" pos=\"0 0 0.2155\" quat=\"1 1 0 0\">\\n                  <inertial pos=\"0 0.00059999999999999995 0.00040000000000000002\" quat=\"1 1 0 0\" mass=\"1.8\" diaginertia=\"0.0048999999999999998 0.0047000000000000002 0.0035999999999999999\"/>\\n                  <joint name=\"joint6\" class=\"joint2\"/>\\n                  <geom name=\"//unnamed_geom_55\" class=\"visual\" material=\"orange\" mesh=\"link_6_orange\"/>\\n                  <geom name=\"//unnamed_geom_56\" class=\"visual\" mesh=\"link_6_grey\"/>\\n                  <geom name=\"//unnamed_geom_57\" class=\"collision\" size=\"0.055\" pos=\"0 0 -0.058999999999999997\"/>\\n                  <geom name=\"//unnamed_geom_58\" class=\"collision\" size=\"0.065000000000000002\" pos=\"0 -0.029999999999999999 0.010999999999999999\"/>\\n                  <geom name=\"//unnamed_geom_59\" class=\"collision\" size=\"0.080000000000000002\"/>\\n                  <body name=\"link7\" pos=\"0 0.081000000000000003 0\" quat=\"0 0 1 1\">\\n                    <inertial pos=\"0 0 0.02\" mass=\"1.2\" diaginertia=\"0.001 0.001 0.001\"/>\\n                    <joint name=\"joint7\" class=\"joint3\"/>\\n                    <geom name=\"//unnamed_geom_60\" class=\"visual\" mesh=\"link_7\"/>\\n                    <geom name=\"//unnamed_geom_61\" class=\"collision\" size=\"0.059999999999999998\" pos=\"0 0 0.001\"/>\\n                    <site name=\"attachment_site\" pos=\"0 0 0.044999999999999998\"/>\\n                    <body pos=\"0 0 0.044999999999999998\" name=\"end_effector/\">\\n                      <body name=\"end_effector/end_effector\">\\n                        <geom name=\"end_effector/end_effector\" class=\"end_effector/\" type=\"capsule\" size=\"0.044999999999999998 0.14999999999999999\"/>\\n                      </body>\\n                    </body>\\n                  </body>\\n                </body>\\n              </body>\\n            </body>\\n          </body>\\n        </body>\\n      </body>\\n    </body>\\n    <body name=\"goal/\">\\n      <body name=\"goal/goal\">\\n        <geom name=\"goal/top_wall\" class=\"goal/\" type=\"box\" size=\"0.044999999999999998 0.025000000000000001 0.10000000000000001\" rgba=\"1 0 0 1\" pos=\"0.5 0.070000000000000007 0.10000000000000001\"/>\\n        <geom name=\"goal/bottom_wall\" class=\"goal/\" type=\"box\" size=\"0.044999999999999998 0.025000000000000001 0.10000000000000001\" rgba=\"0 1 0 1\" pos=\"0.5 -0.070000000000000007 0.10000000000000001\"/>\\n        <geom name=\"goal/right_wall\" class=\"goal/\" type=\"box\" size=\"0.025000000000000001 0.044999999999999998 0.10000000000000001\" rgba=\"0 1 1 1\" pos=\"0.57000000000000006 0 0.10000000000000001\"/>\\n        <geom name=\"goal/left_wall\" class=\"goal/\" type=\"box\" size=\"0.025000000000000001 0.044999999999999998 0.10000000000000001\" rgba=\"0 0 1 1\" pos=\"0.42999999999999999 0 0.10000000000000001\"/>\\n      </body>\\n    </body>\\n  </worldbody>\\n  <contact>\\n    <exclude name=\"//unnamed_contact_0\" body1=\"base\" body2=\"link1\"/>\\n    <exclude name=\"//unnamed_contact_1\" body1=\"base\" body2=\"link2\"/>\\n    <exclude name=\"//unnamed_contact_2\" body1=\"base\" body2=\"link3\"/>\\n    <exclude name=\"//unnamed_contact_3\" body1=\"link1\" body2=\"link3\"/>\\n    <exclude name=\"//unnamed_contact_4\" body1=\"link3\" body2=\"link5\"/>\\n    <exclude name=\"//unnamed_contact_5\" body1=\"link4\" body2=\"link7\"/>\\n    <exclude name=\"//unnamed_contact_6\" body1=\"link5\" body2=\"link7\"/>\\n  </contact>\\n  <actuator>\\n    <general name=\"actuator1\" class=\"joint1\" joint=\"joint1\"/>\\n    <general name=\"actuator2\" class=\"joint2\" joint=\"joint2\"/>\\n    <general name=\"actuator3\" class=\"joint1\" joint=\"joint3\"/>\\n    <general name=\"actuator4\" class=\"joint2\" joint=\"joint4\"/>\\n    <general name=\"actuator5\" class=\"joint1\" joint=\"joint5\"/>\\n    <general name=\"actuator6\" class=\"joint2\" joint=\"joint6\"/>\\n    <general name=\"actuator7\" class=\"joint3\" joint=\"joint7\"/>\\n  </actuator>\\n  <keyframe>\\n    <key name=\"home\" qpos=\"0 0.78539800000000004 0 -1.5708 0 0 0\" ctrl=\"0 0.78539800000000004 0 -1.5708 0 0 0\"/>\\n  </keyframe>\\n</mujoco>\\n'"
      ]
     },
     "execution_count": 8,
     "metadata": {},
     "output_type": "execute_result"
    }
   ],
   "source": [
    "xml_model.to_xml_string()"
   ]
  },
  {
   "cell_type": "markdown",
   "metadata": {},
   "source": [
    "# Add Shape to arm"
   ]
  },
  {
   "cell_type": "code",
   "execution_count": 9,
   "metadata": {},
   "outputs": [],
   "source": [
    "model = MjModel.from_xml_path(\"tmp/tmp.xml\")"
   ]
  },
  {
   "cell_type": "code",
   "execution_count": 10,
   "metadata": {},
   "outputs": [],
   "source": [
    "viewer.launch(model)"
   ]
  },
  {
   "cell_type": "code",
   "execution_count": null,
   "metadata": {},
   "outputs": [],
   "source": []
  }
 ],
 "metadata": {
  "kernelspec": {
   "display_name": "Python 3",
   "language": "python",
   "name": "python3"
  },
  "language_info": {
   "codemirror_mode": {
    "name": "ipython",
    "version": 3
   },
   "file_extension": ".py",
   "mimetype": "text/x-python",
   "name": "python",
   "nbconvert_exporter": "python",
   "pygments_lexer": "ipython3",
   "version": "3.8.10"
  }
 },
 "nbformat": 4,
 "nbformat_minor": 2
}
