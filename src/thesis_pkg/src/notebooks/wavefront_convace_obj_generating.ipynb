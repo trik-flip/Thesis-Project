{
 "cells": [
  {
   "cell_type": "code",
   "execution_count": 1,
   "metadata": {},
   "outputs": [],
   "source": [
    "import ipywidgets as w\n",
    "\n",
    "from utils.wavefront import generator, writer"
   ]
  },
  {
   "cell_type": "code",
   "execution_count": 2,
   "metadata": {},
   "outputs": [],
   "source": [
    "model = None"
   ]
  },
  {
   "cell_type": "code",
   "execution_count": null,
   "metadata": {},
   "outputs": [],
   "source": [
    "def header(x: str, level=1) -> w.HTML:\n",
    "    return w.HTML(f\"<h{level}>{x}</h{level}>\")\n",
    "\n",
    "\n",
    "def text(x: str) -> w.HTML:\n",
    "    return w.HTML(f\"<p>{x}</p>\")\n",
    "\n",
    "\n",
    "a = w.Dropdown(options=[1, 2, 3])\n",
    "b = w.VBox([header(\"Test\"), a])\n",
    "b"
   ]
  },
  {
   "cell_type": "code",
   "execution_count": null,
   "metadata": {},
   "outputs": [],
   "source": [
    "children = [header(\"Select your writer\")]\n",
    "tabs = []\n",
    "for writ in writer.__all__:\n",
    "    num_optinal_parameters = len(writer.__dict__[writ].__annotations__) - 2\n",
    "    if num_optinal_parameters >= 2:\n",
    "        text_folder = w.Text(placeholder=\"folder\", value=\"multi_tmp\")\n",
    "        text_file = w.Text(value=\"tmp_{i}.obj\", placeholder=\"file\")\n",
    "    elif num_optinal_parameters >= 1:\n",
    "        text_file = w.Text(value=\"tmp.obj\", placeholder=\"file\")\n",
    "\n",
    "    fn = writer.__dict__[writ]\n",
    "\n",
    "    def write_to(_):\n",
    "        print(tab.children[3].value, \"from\", writ)\n",
    "        fn(model, folder_name=text_folder.value, file_name=text_file.value)\n",
    "\n",
    "    tab = w.VBox(\n",
    "        [\n",
    "            header(writ, 2),\n",
    "            text(fn.__doc__),\n",
    "        ]\n",
    "    )\n",
    "\n",
    "    if num_optinal_parameters >= 2:\n",
    "        tab.children += (text_folder,)\n",
    "    tab.children = [*tab.children, text_file, b]\n",
    "    tabs.append(((writ, tab)))\n",
    "    del tab\n",
    "# writer.__dict__[\"write_multi_part_obj_file\"]\n",
    "t = w.Tab()\n",
    "t.children = [t for _, t in tabs]\n",
    "t.titles = [t for t, _ in tabs]\n",
    "children.append(t)\n",
    "b = w.Button(description=\"Create model\")\n",
    "\n",
    "\n",
    "def get_child(i: int, id: str):\n",
    "    c = [\n",
    "        c\n",
    "        for c in t.children[i].children\n",
    "        if \"placeholder\" in dir(c)\n",
    "        and ord(c.placeholder[0]) <= 255\n",
    "        and c.placeholder == id\n",
    "    ]\n",
    "\n",
    "\n",
    "def func(values):\n",
    "    if values[\"name\"] == \"selected_index\":\n",
    "        cs = [\n",
    "            c\n",
    "            for c in t.children[values[\"new\"]].children\n",
    "            if \"placeholder\" in dir(c) and ord(c.placeholder[0]) <= 255\n",
    "        ]\n",
    "        if len(cs) == 1:\n",
    "\n",
    "            def func(_):\n",
    "                print(f\"calling with {cs[0].value}\")\n",
    "                # writer.__dict__[writer.__all__[values[\"new\"]]](\n",
    "                #     model, file_name=cs[0].value\n",
    "                # )\n",
    "\n",
    "        else:\n",
    "            cs = sorted(cs, key=lambda x: x.placeholder)\n",
    "\n",
    "            def func(_):\n",
    "                print(f\"calling with {cs[0].value} and {cs[1].value}\")\n",
    "                # writer.__dict__[writer.__all__[values[\"new\"]]](\n",
    "                #     model, file_name=cs[0].value, folder_name=cs[1].value\n",
    "                # )\n",
    "\n",
    "        b.on_click(func, remove=True)\n",
    "\n",
    "\n",
    "t.observe(func, \"selected_index\")\n",
    "\n",
    "\n",
    "# t._selected_index_changed = func\n",
    "t"
   ]
  },
  {
   "cell_type": "code",
   "execution_count": null,
   "metadata": {},
   "outputs": [],
   "source": [
    "print(t.selected_index)\n",
    "dir(b)"
   ]
  },
  {
   "cell_type": "code",
   "execution_count": null,
   "metadata": {},
   "outputs": [],
   "source": [
    "print(a.value)"
   ]
  }
 ],
 "metadata": {
  "kernelspec": {
   "display_name": "Python 3",
   "language": "python",
   "name": "python3"
  },
  "language_info": {
   "codemirror_mode": {
    "name": "ipython",
    "version": 3
   },
   "file_extension": ".py",
   "mimetype": "text/x-python",
   "name": "python",
   "nbconvert_exporter": "python",
   "pygments_lexer": "ipython3",
   "version": "3.8.10"
  }
 },
 "nbformat": 4,
 "nbformat_minor": 2
}
