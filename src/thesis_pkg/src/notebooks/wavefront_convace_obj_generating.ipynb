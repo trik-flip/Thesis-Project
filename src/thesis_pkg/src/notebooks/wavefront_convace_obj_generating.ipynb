{
 "cells": [
  {
   "cell_type": "code",
   "execution_count": 1,
   "metadata": {},
   "outputs": [],
   "source": [
    "import ipywidgets as w\n",
    "\n",
    "from utils.wavefront import generator, writer"
   ]
  },
  {
   "cell_type": "code",
   "execution_count": 2,
   "metadata": {},
   "outputs": [],
   "source": [
    "model = None"
   ]
  },
  {
   "cell_type": "code",
   "execution_count": 3,
   "metadata": {},
   "outputs": [
    {
     "data": {
      "application/vnd.jupyter.widget-view+json": {
       "model_id": "2e568e2f77f144b19cf47ee29e12a359",
       "version_major": 2,
       "version_minor": 0
      },
      "text/plain": [
       "VBox(children=(HTML(value='<h1>Test</h1>'), Dropdown(options=(1, 2, 3), value=1)))"
      ]
     },
     "execution_count": 3,
     "metadata": {},
     "output_type": "execute_result"
    }
   ],
   "source": [
    "def header(x: str, level=1) -> w.HTML:\n",
    "    return w.HTML(f\"<h{level}>{x}</h{level}>\")\n",
    "\n",
    "\n",
    "def text(x: str) -> w.HTML:\n",
    "    return w.HTML(f\"<p>{x}</p>\")\n",
    "\n",
    "\n",
    "a = w.Dropdown(options=[1, 2, 3])\n",
    "b = w.VBox([header(\"Test\"), a])\n",
    "b"
   ]
  },
  {
   "cell_type": "code",
   "execution_count": 38,
   "metadata": {},
   "outputs": [
    {
     "data": {
      "application/vnd.jupyter.widget-view+json": {
       "model_id": "38893fbc5f72496680d87172c9e76d79",
       "version_major": 2,
       "version_minor": 0
      },
      "text/plain": [
       "Tab(children=(VBox(children=(HTML(value='<h2>write_obj_file</h2>'), HTML(value='<p>Write an object consisting …"
      ]
     },
     "execution_count": 38,
     "metadata": {},
     "output_type": "execute_result"
    }
   ],
   "source": [
    "children = [header(\"Select your writer\")]\n",
    "tabs = []\n",
    "for writ in writer.__all__:\n",
    "    num_optinal_parameters = len(writer.__dict__[writ].__annotations__) - 2\n",
    "    if num_optinal_parameters >= 2:\n",
    "        text_folder = w.Text(placeholder=\"folder\", value=\"multi_tmp\")\n",
    "        text_file = w.Text(value=\"tmp_{i}.obj\", placeholder=\"file\")\n",
    "    elif num_optinal_parameters >= 1:\n",
    "        text_file = w.Text(value=\"tmp.obj\", placeholder=\"file\")\n",
    "\n",
    "    fn = writer.__dict__[writ]\n",
    "\n",
    "    def write_to(_):\n",
    "        print(tab.children[3].value, \"from\", writ)\n",
    "        fn(model, folder_name=text_folder.value, file_name=text_file.value)\n",
    "\n",
    "    tab = w.VBox(\n",
    "        [\n",
    "            header(writ, 2),\n",
    "            text(fn.__doc__),\n",
    "        ]\n",
    "    )\n",
    "\n",
    "    if num_optinal_parameters >= 2:\n",
    "        tab.children += (text_folder,)\n",
    "    tab.children = [*tab.children, text_file, b]\n",
    "    tabs.append(((writ, tab)))\n",
    "    del tab\n",
    "# writer.__dict__[\"write_multi_part_obj_file\"]\n",
    "t = w.Tab()\n",
    "t.children = [t for _, t in tabs]\n",
    "t.titles = [t for t, _ in tabs]\n",
    "children.append(t)\n",
    "b = w.Button(description=\"Create model\")\n",
    "\n",
    "\n",
    "def get_child(i: int, id: str):\n",
    "    c = [\n",
    "        c\n",
    "        for c in t.children[i].children\n",
    "        if \"placeholder\" in dir(c)\n",
    "        and ord(c.placeholder[0]) <= 255\n",
    "        and c.placeholder == id\n",
    "    ]\n",
    "\n",
    "\n",
    "def func(values):\n",
    "    if values[\"name\"] == \"selected_index\":\n",
    "        cs = [\n",
    "            c\n",
    "            for c in t.children[values[\"new\"]].children\n",
    "            if \"placeholder\" in dir(c) and ord(c.placeholder[0]) <= 255\n",
    "        ]\n",
    "        if len(cs) == 1:\n",
    "\n",
    "            def func(_):\n",
    "                print(f\"calling with {cs[0].value}\")\n",
    "                # writer.__dict__[writer.__all__[values[\"new\"]]](\n",
    "                #     model, file_name=cs[0].value\n",
    "                # )\n",
    "\n",
    "        else:\n",
    "            cs = sorted(cs, key=lambda x: x.placeholder)\n",
    "\n",
    "            def func(_):\n",
    "                print(f\"calling with {cs[0].value} and {cs[1].value}\")\n",
    "                # writer.__dict__[writer.__all__[values[\"new\"]]](\n",
    "                #     model, file_name=cs[0].value, folder_name=cs[1].value\n",
    "                # )\n",
    "\n",
    "        b.on_click(func, remove=True)\n",
    "\n",
    "\n",
    "t.observe(func, \"selected_index\")\n",
    "\n",
    "\n",
    "# t._selected_index_changed = func\n",
    "t"
   ]
  },
  {
   "cell_type": "code",
   "execution_count": 40,
   "metadata": {},
   "outputs": [
    {
     "name": "stdout",
     "output_type": "stream",
     "text": [
      "0\n"
     ]
    },
    {
     "data": {
      "text/plain": [
       "['__annotations__',\n",
       " '__class__',\n",
       " '__copy__',\n",
       " '__deepcopy__',\n",
       " '__del__',\n",
       " '__delattr__',\n",
       " '__dict__',\n",
       " '__dir__',\n",
       " '__doc__',\n",
       " '__eq__',\n",
       " '__format__',\n",
       " '__ge__',\n",
       " '__getattribute__',\n",
       " '__getstate__',\n",
       " '__gt__',\n",
       " '__hash__',\n",
       " '__init__',\n",
       " '__init_subclass__',\n",
       " '__le__',\n",
       " '__lt__',\n",
       " '__module__',\n",
       " '__ne__',\n",
       " '__new__',\n",
       " '__reduce__',\n",
       " '__reduce_ex__',\n",
       " '__repr__',\n",
       " '__setattr__',\n",
       " '__setstate__',\n",
       " '__sizeof__',\n",
       " '__str__',\n",
       " '__subclasshook__',\n",
       " '__weakref__',\n",
       " '_active_widgets',\n",
       " '_add_notifiers',\n",
       " '_all_trait_default_generators',\n",
       " '_call_widget_constructed',\n",
       " '_click_handlers',\n",
       " '_comm_changed',\n",
       " '_compare',\n",
       " '_control_comm',\n",
       " '_cross_validation_lock',\n",
       " '_default_keys',\n",
       " '_descriptors',\n",
       " '_dom_classes',\n",
       " '_gen_repr_from_keys',\n",
       " '_get_embed_state',\n",
       " '_get_trait_default_generator',\n",
       " '_handle_button_msg',\n",
       " '_handle_control_comm_msg',\n",
       " '_handle_custom_msg',\n",
       " '_handle_msg',\n",
       " '_holding_sync',\n",
       " '_instance_inits',\n",
       " '_is_numpy',\n",
       " '_lock_property',\n",
       " '_log_default',\n",
       " '_model_id',\n",
       " '_model_module',\n",
       " '_model_module_version',\n",
       " '_model_name',\n",
       " '_msg_callbacks',\n",
       " '_notify_observers',\n",
       " '_notify_trait',\n",
       " '_property_lock',\n",
       " '_register_validator',\n",
       " '_remove_notifiers',\n",
       " '_repr_keys',\n",
       " '_repr_mimebundle_',\n",
       " '_send',\n",
       " '_should_send_property',\n",
       " '_states_to_send',\n",
       " '_static_immutable_initial_values',\n",
       " '_trait_default_generators',\n",
       " '_trait_from_json',\n",
       " '_trait_notifiers',\n",
       " '_trait_to_json',\n",
       " '_trait_validators',\n",
       " '_trait_values',\n",
       " '_traits',\n",
       " '_validate_icon',\n",
       " '_view_count',\n",
       " '_view_module',\n",
       " '_view_module_version',\n",
       " '_view_name',\n",
       " '_widget_construction_callback',\n",
       " '_widget_types',\n",
       " 'add_class',\n",
       " 'add_traits',\n",
       " 'blur',\n",
       " 'button_style',\n",
       " 'class_own_trait_events',\n",
       " 'class_own_traits',\n",
       " 'class_trait_names',\n",
       " 'class_traits',\n",
       " 'click',\n",
       " 'close',\n",
       " 'close_all',\n",
       " 'comm',\n",
       " 'cross_validation_lock',\n",
       " 'description',\n",
       " 'disabled',\n",
       " 'focus',\n",
       " 'get_manager_state',\n",
       " 'get_state',\n",
       " 'get_view_spec',\n",
       " 'handle_comm_opened',\n",
       " 'handle_control_comm_opened',\n",
       " 'has_trait',\n",
       " 'hold_sync',\n",
       " 'hold_trait_notifications',\n",
       " 'icon',\n",
       " 'keys',\n",
       " 'layout',\n",
       " 'log',\n",
       " 'model_id',\n",
       " 'notify_change',\n",
       " 'observe',\n",
       " 'on_click',\n",
       " 'on_msg',\n",
       " 'on_trait_change',\n",
       " 'on_widget_constructed',\n",
       " 'open',\n",
       " 'remove_class',\n",
       " 'send',\n",
       " 'send_state',\n",
       " 'set_state',\n",
       " 'set_trait',\n",
       " 'setup_instance',\n",
       " 'style',\n",
       " 'tabbable',\n",
       " 'tooltip',\n",
       " 'trait_defaults',\n",
       " 'trait_events',\n",
       " 'trait_has_value',\n",
       " 'trait_metadata',\n",
       " 'trait_names',\n",
       " 'trait_values',\n",
       " 'traits',\n",
       " 'unobserve',\n",
       " 'unobserve_all',\n",
       " 'widget_types',\n",
       " 'widgets']"
      ]
     },
     "execution_count": 40,
     "metadata": {},
     "output_type": "execute_result"
    }
   ],
   "source": [
    "print(t.selected_index)\n",
    "dir(b)"
   ]
  },
  {
   "cell_type": "code",
   "execution_count": 29,
   "metadata": {},
   "outputs": [
    {
     "name": "stdout",
     "output_type": "stream",
     "text": [
      "tester\n"
     ]
    }
   ],
   "source": [
    "print(a.value)"
   ]
  }
 ],
 "metadata": {
  "kernelspec": {
   "display_name": "Python 3",
   "language": "python",
   "name": "python3"
  },
  "language_info": {
   "codemirror_mode": {
    "name": "ipython",
    "version": 3
   },
   "file_extension": ".py",
   "mimetype": "text/x-python",
   "name": "python",
   "nbconvert_exporter": "python",
   "pygments_lexer": "ipython3",
   "version": "3.8.10"
  }
 },
 "nbformat": 4,
 "nbformat_minor": 2
}
