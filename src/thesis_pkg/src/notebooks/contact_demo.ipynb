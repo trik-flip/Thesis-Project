{
 "cells": [
  {
   "cell_type": "code",
   "execution_count": 44,
   "metadata": {},
   "outputs": [],
   "source": [
    "import logging\n",
    "import os\n",
    "\n",
    "import matplotlib.pyplot as plt\n",
    "import mujoco\n",
    "import mujoco.viewer as viewer\n",
    "import numpy as np\n",
    "import numpy.typing as npt\n",
    "from dm_control import mjcf\n",
    "from pipe import select\n",
    "from scipy.spatial.transform import Rotation as R\n",
    "from sim._mujoco.models import (\n",
    "    attach_to_model,\n",
    "    gen_end_effector,\n",
    "    gen_goal_square,\n",
    "    get_mujoco_model,\n",
    ")\n",
    "from sim._mujoco.procedural_model import add_model\n",
    "from sim.inverse_kinematics import get_IK\n",
    "from sim.inverse_kinematics.decoupled_position_and_orientation import (\n",
    "    create_inverse_kinematics_function,\n",
    ")"
   ]
  },
  {
   "cell_type": "code",
   "execution_count": 45,
   "metadata": {},
   "outputs": [],
   "source": [
    "a1 = 0.42  # Length of first link\n",
    "a2 = 0.4  # Length of second link\n",
    "d6 = 0.181  # Distance from wrist to end-effector\n",
    "ikf = create_inverse_kinematics_function(a1, a2, d6)\n",
    "\n",
    "pi = np.pi"
   ]
  },
  {
   "cell_type": "code",
   "execution_count": null,
   "metadata": {},
   "outputs": [],
   "source": [
    "home = os.path.expanduser(\"~\")\n",
    "path = f\"{home}/Code/OtherProjects/mujoco_menagerie/kuka_iiwa_14/scene2.xml\"\n",
    "assert os.path.exists(path), path + \" does not exist\"\n",
    "xml_model = mjcf.from_path(path)\n",
    "site = xml_model.find(\"site\", \"attachment_site\").parent\n",
    "common_options = {\n",
    "    \"asset_scale\": [0.1, 0.1, 0.1],\n",
    "    \"compiler_angle\": \"radian\",\n",
    "    \"path_name\": \"./assets/end_effectors\",\n",
    "}\n",
    "obj = \"cyl_8\"\n",
    "add_model(f\"e_{obj}\", xml_model, site, geom_density=0.1, **common_options)\n",
    "add_model(f\"h_{obj}\", xml_model, geom_pos=[0.4, 0, 0], **common_options)\n",
    "\n",
    "mjcf.export_with_assets(xml_model, \"tmp\", \"tmp.xml\")\n",
    "model = mujoco.MjModel.from_xml_path(\"tmp/tmp.xml\")"
   ]
  },
  {
   "cell_type": "code",
   "execution_count": 47,
   "metadata": {},
   "outputs": [],
   "source": [
    "viewer.launch(model)"
   ]
  },
  {
   "cell_type": "code",
   "execution_count": 48,
   "metadata": {},
   "outputs": [],
   "source": [
    "ik = get_IK(m=model, joint=\"link7\")"
   ]
  },
  {
   "cell_type": "code",
   "execution_count": null,
   "metadata": {},
   "outputs": [],
   "source": [
    "c = ik.c\n",
    "c.show_image()"
   ]
  },
  {
   "cell_type": "code",
   "execution_count": null,
   "metadata": {},
   "outputs": [],
   "source": [
    "error = []\n",
    "forces_and_torques = []\n",
    "\n",
    "ik.c.solve2([0.4, 0, 0.315], [pi, 0, 0]).copy_error_log(error).copy_torque_log(\n",
    "    forces_and_torques\n",
    ").show_video()"
   ]
  },
  {
   "cell_type": "code",
   "execution_count": null,
   "metadata": {},
   "outputs": [],
   "source": [
    "pos_error = list(error[0] | select(lambda x: x[0]))\n",
    "_ = plt.plot(pos_error)\n",
    "plt.legend([\"x\", \"y\", \"z\"])"
   ]
  },
  {
   "cell_type": "code",
   "execution_count": null,
   "metadata": {},
   "outputs": [],
   "source": [
    "forces_and_torques_log = list(forces_and_torques[0] | select(lambda x: x[0]))\n",
    "_ = plt.plot(forces_and_torques_log)\n",
    "plt.legend([\"x\", \"y\", \"z\"])"
   ]
  },
  {
   "cell_type": "code",
   "execution_count": null,
   "metadata": {},
   "outputs": [],
   "source": [
    "forces_and_torques_log = list(forces_and_torques[0] | select(lambda x: x[1]))\n",
    "_ = plt.plot(forces_and_torques_log)\n",
    "plt.legend([\"x\", \"y\", \"z\"])"
   ]
  },
  {
   "cell_type": "code",
   "execution_count": 19,
   "metadata": {},
   "outputs": [],
   "source": [
    "xml_path = \"/home/philip/Code/OtherProjects/mujoco_menagerie/kuka_iiwa_14/scene.xml\"\n",
    "model = mjcf.from_path(xml_path)\n",
    "ee = gen_end_effector(\"capsule\")\n",
    "g = gen_goal_square(radius=0.045)\n",
    "\n",
    "attach_to_model(model, ee)\n",
    "model.worldbody.attach(g)\n",
    "\n",
    "model = get_mujoco_model(model)\n",
    "# viewer.launch(model)"
   ]
  },
  {
   "cell_type": "code",
   "execution_count": null,
   "metadata": {},
   "outputs": [],
   "source": [
    "assert isinstance(model, mujoco.MjModel)\n",
    "\n",
    "ik = get_IK(m=model, d=None, joint=\"link3\").show_image()\n",
    "ik.logger.setLevel(logging.CRITICAL)"
   ]
  },
  {
   "cell_type": "code",
   "execution_count": 21,
   "metadata": {
    "notebookRunGroups": {
     "groupValue": "2"
    }
   },
   "outputs": [],
   "source": [
    "ik_test = ik.c"
   ]
  },
  {
   "cell_type": "code",
   "execution_count": null,
   "metadata": {},
   "outputs": [],
   "source": [
    "top_of_manipulator = [0.0, 0.0, 0.315 + 0.42 + 0.4 + 0.081 + 0.1]\n",
    "# ik_test.data.mocap_pos[0] = top_of_manipulator\n",
    "ik_test.show_image()"
   ]
  },
  {
   "cell_type": "code",
   "execution_count": null,
   "metadata": {},
   "outputs": [],
   "source": [
    "goal: npt.NDArray[np.float64] = np.array([0.3, 0, 0.315])\n",
    "error = []\n",
    "forces_and_torques = []\n",
    "ik_test.solve2([0.3, 0, 0.315], [pi, 0, 0], max_iterations=500).copy_error_log(\n",
    "    error\n",
    ").copy_torque_log(forces_and_torques).show_video()\n",
    "# ik_test = (\n",
    "#     ik.c.solve2([0.3, 0, 0.315], [pi, 0, 0])\n",
    "#     .copy_error_log(error)\n",
    "#     .solve2([0.3, 0, 0.315], [pi, 0, 0])\n",
    "#     .copy_error_log(error)\n",
    "#     .show_video()\n",
    "# )"
   ]
  },
  {
   "cell_type": "code",
   "execution_count": null,
   "metadata": {},
   "outputs": [],
   "source": [
    "pos_error = list(error[0] | select(lambda x: x[0]))\n",
    "_ = plt.plot(pos_error)\n",
    "plt.legend([\"x\", \"y\", \"z\"])"
   ]
  },
  {
   "cell_type": "code",
   "execution_count": null,
   "metadata": {},
   "outputs": [],
   "source": [
    "forces_and_torques_log = list(forces_and_torques[0] | select(lambda x: x[0]))\n",
    "_ = plt.plot(forces_and_torques_log)\n",
    "plt.legend([\"x\", \"y\", \"z\"])"
   ]
  },
  {
   "cell_type": "code",
   "execution_count": null,
   "metadata": {},
   "outputs": [],
   "source": [
    "forces_and_torques_log = list(forces_and_torques[0] | select(lambda x: x[1]))\n",
    "_ = plt.plot(forces_and_torques_log)\n",
    "plt.legend([\"x\", \"y\", \"z\"])"
   ]
  },
  {
   "cell_type": "code",
   "execution_count": null,
   "metadata": {},
   "outputs": [],
   "source": [
    "ik_test.solve2([0.3, 0, 0.315], [0, pi, 0])"
   ]
  },
  {
   "cell_type": "code",
   "execution_count": null,
   "metadata": {},
   "outputs": [],
   "source": [
    "ik_test.show_video()"
   ]
  },
  {
   "cell_type": "code",
   "execution_count": null,
   "metadata": {
    "slideshow": {
     "slide_type": "slide"
    },
    "tags": [
     "calculation"
    ]
   },
   "outputs": [],
   "source": [
    "# Example parameters\n",
    "# Desired end-effector position\n",
    "end_effector_position = (goal - np.array([0, 0, 0.315]))[::-1]\n",
    "# Desired end-effector orientation\n",
    "end_effector_orientation = R.from_euler(\"xyz\", [pi, 0, pi]).as_matrix()\n",
    "\n",
    "# Solve inverse kinematics\n",
    "joint_angles = ikf(end_effector_position, end_effector_orientation)"
   ]
  },
  {
   "cell_type": "code",
   "execution_count": null,
   "metadata": {},
   "outputs": [],
   "source": [
    "ik2 = ik.c\n",
    "ik2.data.mocap_pos[0] = goal  # p_e[::-1] + np.array([0.06, 0, 0.215])\n",
    "ctrl = ik2.data.ctrl\n",
    "# ik2.data.mocap_quat[0] = (R.from_euler(\"xyz\", [0, 0, 0])).as_quat()"
   ]
  },
  {
   "cell_type": "code",
   "execution_count": 15,
   "metadata": {},
   "outputs": [],
   "source": [
    "ctrl[0] = joint_angles[0]\n",
    "ctrl[1] = joint_angles[1]\n",
    "ctrl[2] = 0\n",
    "ctrl[3] = -joint_angles[2]\n",
    "ctrl[4] = joint_angles[3]\n",
    "ctrl[5] = joint_angles[4]\n",
    "ctrl[6] = joint_angles[5]"
   ]
  },
  {
   "cell_type": "code",
   "execution_count": null,
   "metadata": {},
   "outputs": [],
   "source": [
    "with viewer.launch_passive(ik2.model, ik2.data) as v:\n",
    "    while v.is_running():\n",
    "        ik2.check_joint_limits()\n",
    "        old = ik2.data.qpos.copy()\n",
    "        mujoco.mj_step(ik2.model, ik2.data)\n",
    "        while np.linalg.norm(ik2.data.qpos - old) > 1e-9:\n",
    "            if not v.is_running():\n",
    "                break\n",
    "            old = ik2.data.qpos.copy()\n",
    "            mujoco.mj_step(ik2.model, ik2.data)\n",
    "            v.sync()\n",
    "        v.sync()\n",
    "\n",
    "ik2.check_joint_limits()\n",
    "old = ik2.data.qpos.copy()\n",
    "mujoco.mj_step(ik2.model, ik2.data)\n",
    "while np.linalg.norm(ik2.data.qpos - old) > 1e-9:\n",
    "    old = ik2.data.qpos.copy()\n",
    "    mujoco.mj_step(ik2.model, ik2.data)\n",
    "ik2.show_image()"
   ]
  },
  {
   "cell_type": "code",
   "execution_count": null,
   "metadata": {},
   "outputs": [],
   "source": [
    "# joint 1 (base)         = 0.1575\n",
    "# joint 2 (shoulder)     = 0.1575\n",
    "# joint 3 (upper arm)    = 0.2045  # ]]]]]]]|--- 0.42\n",
    "# joint 4 (upto elbow)   = 0.2155  # ]]]]]]]|\n",
    "# joint 5 (from elbow)   = 0.1845  # |-- 0.4\n",
    "# joint 6 (till wrist)   = 0.2155  # |\n",
    "# joint 7 (wrist)        = 0.0810\n",
    "\n",
    "\n",
    "for i in range(1, 8):\n",
    "    print(i, ik.model.body(f\"link{i}\").pos)\n",
    "ik.show_image()"
   ]
  },
  {
   "cell_type": "code",
   "execution_count": null,
   "metadata": {},
   "outputs": [],
   "source": [
    "error_log = []\n",
    "ik.c([0.5, 0, 0.4]).copy_error_log(error_log)([0.5, 0, 0.4], [0, 0, pi]).copy_error_log(\n",
    "    error_log\n",
    ")([0.5, 0, 0.2], [0, 0, pi]).copy_error_log(error_log).show_video()"
   ]
  },
  {
   "cell_type": "code",
   "execution_count": null,
   "metadata": {},
   "outputs": [],
   "source": [
    "def show_pos_error(index: int):\n",
    "    fig = plt.figure()\n",
    "    ax = fig.gca()\n",
    "    plt.plot([x[0] for x, _ in error_log[index]])\n",
    "    plt.plot([x[1] for x, _ in error_log[index]])\n",
    "    plt.plot([x[2] for x, _ in error_log[index]])\n",
    "    plt.plot([np.linalg.norm(x) for x, _ in error_log[index]])\n",
    "    plt.legend(\n",
    "        [\n",
    "            f\"err traj {index+1}x\",\n",
    "            f\"err traj {index+1}y\",\n",
    "            f\"err traj {index+1}z\",\n",
    "            f\"err traj {index+1}\",\n",
    "        ]\n",
    "    )\n",
    "    # ax.set_xticks(np.arange(0, 1, 0.1))\n",
    "    # ax.set_yticks(np.arange(0, 1, 0.1))\n",
    "    plt.grid()\n",
    "    plt.show()\n",
    "\n",
    "\n",
    "def show_rot_error(index: int):\n",
    "    plt.plot([y[0] for _, y in error_log[index]])\n",
    "    plt.plot([y[1] for _, y in error_log[index]])\n",
    "    plt.plot([y[2] for _, y in error_log[index]])\n",
    "    plt.plot([np.linalg.norm(y) for _, y in error_log[index]])\n",
    "    plt.legend(\n",
    "        [\n",
    "            f\"err traj {index+1}x\",\n",
    "            f\"err traj {index+1}y\",\n",
    "            f\"err traj {index+1}z\",\n",
    "            f\"err traj {index+1}\",\n",
    "        ]\n",
    "    )\n",
    "    plt.show()\n",
    "\n",
    "\n",
    "show_pos_error(0)\n",
    "show_pos_error(1)\n",
    "show_pos_error(2)\n",
    "show_rot_error(0)\n",
    "show_rot_error(1)\n",
    "show_rot_error(2)"
   ]
  },
  {
   "cell_type": "code",
   "execution_count": null,
   "metadata": {},
   "outputs": [],
   "source": [
    "ik.c([0, 0, 1], [pi, pi / 2, 0])([0, 0.5, 0.5]).show_video()"
   ]
  },
  {
   "cell_type": "code",
   "execution_count": null,
   "metadata": {},
   "outputs": [],
   "source": [
    "ik2 = ik.__copy__()([0, 0.5, 0], [0, pi, 0]).show_video()\n",
    "ik2.show_image()"
   ]
  },
  {
   "cell_type": "code",
   "execution_count": null,
   "metadata": {},
   "outputs": [],
   "source": [
    "c_array = np.zeros(6, dtype=np.float64)\n",
    "for i in range(ik2.data.ncon):\n",
    "    mujoco.mj_contactForce(ik2.model, ik2.data, i, c_array)\n",
    "    print(\"c_array\", c_array)"
   ]
  },
  {
   "cell_type": "code",
   "execution_count": null,
   "metadata": {},
   "outputs": [],
   "source": []
  }
 ],
 "metadata": {
  "kernelspec": {
   "display_name": "Python 3",
   "language": "python",
   "name": "python3"
  },
  "language_info": {
   "codemirror_mode": {
    "name": "ipython",
    "version": 3
   },
   "file_extension": ".py",
   "mimetype": "text/x-python",
   "name": "python",
   "nbconvert_exporter": "python",
   "pygments_lexer": "ipython3",
   "version": "3.8.10"
  }
 },
 "nbformat": 4,
 "nbformat_minor": 2
}
